{
 "cells": [
  {
   "cell_type": "code",
   "execution_count": 1,
   "id": "d8ea3a54",
   "metadata": {
    "ExecuteTime": {
     "end_time": "2023-03-17T18:10:34.075072Z",
     "start_time": "2023-03-17T18:10:27.162350Z"
    }
   },
   "outputs": [
    {
     "name": "stdout",
     "output_type": "stream",
     "text": [
      "Defaulting to user installation because normal site-packages is not writeable\n",
      "Requirement already satisfied: imblearn in c:\\users\\user\\appdata\\roaming\\python\\python39\\site-packages (0.0)\n",
      "Requirement already satisfied: imbalanced-learn in c:\\users\\user\\appdata\\roaming\\python\\python39\\site-packages (from imblearn) (0.10.1)\n",
      "Requirement already satisfied: scipy>=1.3.2 in c:\\users\\user\\appdata\\roaming\\python\\python39\\site-packages (from imbalanced-learn->imblearn) (1.9.3)\n",
      "Requirement already satisfied: scikit-learn>=1.0.2 in c:\\programdata\\anaconda3\\lib\\site-packages (from imbalanced-learn->imblearn) (1.0.2)\n",
      "Requirement already satisfied: joblib>=1.1.1 in c:\\users\\user\\appdata\\roaming\\python\\python39\\site-packages (from imbalanced-learn->imblearn) (1.2.0)\n",
      "Requirement already satisfied: numpy>=1.17.3 in c:\\programdata\\anaconda3\\lib\\site-packages (from imbalanced-learn->imblearn) (1.21.5)\n",
      "Requirement already satisfied: threadpoolctl>=2.0.0 in c:\\programdata\\anaconda3\\lib\\site-packages (from imbalanced-learn->imblearn) (2.2.0)\n"
     ]
    }
   ],
   "source": [
    "!pip install imblearn"
   ]
  },
  {
   "cell_type": "code",
   "execution_count": 2,
   "id": "644bb341",
   "metadata": {
    "ExecuteTime": {
     "end_time": "2023-03-17T18:10:39.400347Z",
     "start_time": "2023-03-17T18:10:34.078066Z"
    }
   },
   "outputs": [
    {
     "name": "stderr",
     "output_type": "stream",
     "text": [
      "C:\\Users\\user\\AppData\\Local\\Temp\\ipykernel_5040\\3026287180.py:3: DeprecationWarning: `import pandas_profiling` is going to be deprecated by April 1st. Please use `import ydata_profiling` instead.\n",
      "  from pandas_profiling import ProfileReport                          # Import Pandas Profiling (To generate Univariate Analysis)\n"
     ]
    }
   ],
   "source": [
    "#-------------------------------------------------------------------------------------------------------------------------------\n",
    "import pandas as pd                                                 # Importing for panel data analysis\n",
    "from pandas_profiling import ProfileReport                          # Import Pandas Profiling (To generate Univariate Analysis) \n",
    "pd.set_option('display.max_columns', None)                          # Unfolding hidden features if the cardinality is high      \n",
    "pd.set_option('display.max_colwidth', None)                         # Unfolding the max feature width for better clearity      \n",
    "pd.set_option('display.max_rows', None)                             # Unfolding hidden data points if the cardinality is high\n",
    "pd.set_option('mode.chained_assignment', None)                      # Removing restriction over chained assignments operations\n",
    "pd.set_option('display.float_format', lambda x: '%.5f' % x)         # To suppress scientific notation over exponential values\n",
    "#-------------------------------------------------------------------------------------------------------------------------------\n",
    "import numpy as np                                                  # Importing package numpys (For Numerical Python)\n",
    "from scipy.stats import randint as sp_randint                       # for initializing random integer values\n",
    "#-------------------------------------------------------------------------------------------------------------------------------\n",
    "import matplotlib.pyplot as plt                                     # Importing pyplot interface using matplotlib\n",
    "from matplotlib.pylab import rcParams                               # Backend used for rendering and GUI integration                                               \n",
    "import seaborn as sns                                               # Importin seaborm library for interactive visualization\n",
    "%matplotlib inline\n",
    "#-------------------------------------------------------------------------------------------------------------------------------   \n",
    "from sklearn.metrics import accuracy_score, recall_score, precision_score, f1_score\n",
    "# For calculating the accuracy for the model\n",
    "                            \n",
    "#-------------------------------------------------------------------------------------------------------------------------------\n",
    "import warnings                                                     # Importing warning to disable runtime warnings\n",
    "warnings.filterwarnings(\"ignore\")      "
   ]
  },
  {
   "cell_type": "code",
   "execution_count": 3,
   "id": "5430efe3",
   "metadata": {
    "ExecuteTime": {
     "end_time": "2023-03-17T18:10:39.476212Z",
     "start_time": "2023-03-17T18:10:39.410562Z"
    }
   },
   "outputs": [
    {
     "data": {
      "text/html": [
       "<div>\n",
       "<style scoped>\n",
       "    .dataframe tbody tr th:only-of-type {\n",
       "        vertical-align: middle;\n",
       "    }\n",
       "\n",
       "    .dataframe tbody tr th {\n",
       "        vertical-align: top;\n",
       "    }\n",
       "\n",
       "    .dataframe thead th {\n",
       "        text-align: right;\n",
       "    }\n",
       "</style>\n",
       "<table border=\"1\" class=\"dataframe\">\n",
       "  <thead>\n",
       "    <tr style=\"text-align: right;\">\n",
       "      <th></th>\n",
       "      <th>Id</th>\n",
       "      <th>Age</th>\n",
       "      <th>Sex</th>\n",
       "      <th>BP</th>\n",
       "      <th>Cholesterol</th>\n",
       "      <th>Na_to_K</th>\n",
       "      <th>Drug</th>\n",
       "    </tr>\n",
       "  </thead>\n",
       "  <tbody>\n",
       "    <tr>\n",
       "      <th>0</th>\n",
       "      <td>79</td>\n",
       "      <td>32</td>\n",
       "      <td>F</td>\n",
       "      <td>LOW</td>\n",
       "      <td>NORMAL</td>\n",
       "      <td>10.84000</td>\n",
       "      <td>drugX</td>\n",
       "    </tr>\n",
       "    <tr>\n",
       "      <th>1</th>\n",
       "      <td>197</td>\n",
       "      <td>52</td>\n",
       "      <td>M</td>\n",
       "      <td>NORMAL</td>\n",
       "      <td>HIGH</td>\n",
       "      <td>9.89400</td>\n",
       "      <td>drugX</td>\n",
       "    </tr>\n",
       "    <tr>\n",
       "      <th>2</th>\n",
       "      <td>38</td>\n",
       "      <td>39</td>\n",
       "      <td>F</td>\n",
       "      <td>NORMAL</td>\n",
       "      <td>NORMAL</td>\n",
       "      <td>9.70900</td>\n",
       "      <td>drugX</td>\n",
       "    </tr>\n",
       "    <tr>\n",
       "      <th>3</th>\n",
       "      <td>24</td>\n",
       "      <td>33</td>\n",
       "      <td>F</td>\n",
       "      <td>LOW</td>\n",
       "      <td>HIGH</td>\n",
       "      <td>33.48600</td>\n",
       "      <td>DrugY</td>\n",
       "    </tr>\n",
       "    <tr>\n",
       "      <th>4</th>\n",
       "      <td>122</td>\n",
       "      <td>34</td>\n",
       "      <td>M</td>\n",
       "      <td>NORMAL</td>\n",
       "      <td>HIGH</td>\n",
       "      <td>22.45600</td>\n",
       "      <td>DrugY</td>\n",
       "    </tr>\n",
       "  </tbody>\n",
       "</table>\n",
       "</div>"
      ],
      "text/plain": [
       "    Id  Age Sex      BP Cholesterol  Na_to_K   Drug\n",
       "0   79   32   F     LOW      NORMAL 10.84000  drugX\n",
       "1  197   52   M  NORMAL        HIGH  9.89400  drugX\n",
       "2   38   39   F  NORMAL      NORMAL  9.70900  drugX\n",
       "3   24   33   F     LOW        HIGH 33.48600  DrugY\n",
       "4  122   34   M  NORMAL        HIGH 22.45600  DrugY"
      ]
     },
     "execution_count": 3,
     "metadata": {},
     "output_type": "execute_result"
    }
   ],
   "source": [
    "data=pd.read_csv(\"drug_train.csv\")\n",
    "data.head()"
   ]
  },
  {
   "cell_type": "code",
   "execution_count": 4,
   "id": "2e0a36b9",
   "metadata": {
    "ExecuteTime": {
     "end_time": "2023-03-17T18:10:39.492171Z",
     "start_time": "2023-03-17T18:10:39.481202Z"
    }
   },
   "outputs": [
    {
     "name": "stdout",
     "output_type": "stream",
     "text": [
      "shape of Data (160, 7)\n",
      "Number of Row : 160\n",
      "Number of Columns : 7\n"
     ]
    }
   ],
   "source": [
    "print(\"shape of Data\",data.shape)\n",
    "print(\"Number of Row :\",data.shape[0])\n",
    "print(\"Number of Columns :\",data.shape[1])"
   ]
  },
  {
   "cell_type": "code",
   "execution_count": 5,
   "id": "8578ede1",
   "metadata": {
    "ExecuteTime": {
     "end_time": "2023-03-17T18:10:39.518542Z",
     "start_time": "2023-03-17T18:10:39.495163Z"
    }
   },
   "outputs": [
    {
     "name": "stdout",
     "output_type": "stream",
     "text": [
      "<class 'pandas.core.frame.DataFrame'>\n",
      "RangeIndex: 160 entries, 0 to 159\n",
      "Data columns (total 7 columns):\n",
      " #   Column       Non-Null Count  Dtype  \n",
      "---  ------       --------------  -----  \n",
      " 0   Id           160 non-null    int64  \n",
      " 1   Age          160 non-null    int64  \n",
      " 2   Sex          160 non-null    object \n",
      " 3   BP           160 non-null    object \n",
      " 4   Cholesterol  160 non-null    object \n",
      " 5   Na_to_K      160 non-null    float64\n",
      " 6   Drug         160 non-null    object \n",
      "dtypes: float64(1), int64(2), object(4)\n",
      "memory usage: 8.9+ KB\n"
     ]
    }
   ],
   "source": [
    "data.info()"
   ]
  },
  {
   "cell_type": "code",
   "execution_count": 6,
   "id": "91985fe7",
   "metadata": {
    "ExecuteTime": {
     "end_time": "2023-03-17T18:10:39.565580Z",
     "start_time": "2023-03-17T18:10:39.518542Z"
    }
   },
   "outputs": [
    {
     "data": {
      "text/html": [
       "<div>\n",
       "<style scoped>\n",
       "    .dataframe tbody tr th:only-of-type {\n",
       "        vertical-align: middle;\n",
       "    }\n",
       "\n",
       "    .dataframe tbody tr th {\n",
       "        vertical-align: top;\n",
       "    }\n",
       "\n",
       "    .dataframe thead th {\n",
       "        text-align: right;\n",
       "    }\n",
       "</style>\n",
       "<table border=\"1\" class=\"dataframe\">\n",
       "  <thead>\n",
       "    <tr style=\"text-align: right;\">\n",
       "      <th></th>\n",
       "      <th>Id</th>\n",
       "      <th>Age</th>\n",
       "      <th>Na_to_K</th>\n",
       "    </tr>\n",
       "  </thead>\n",
       "  <tbody>\n",
       "    <tr>\n",
       "      <th>count</th>\n",
       "      <td>160.00000</td>\n",
       "      <td>160.00000</td>\n",
       "      <td>160.00000</td>\n",
       "    </tr>\n",
       "    <tr>\n",
       "      <th>mean</th>\n",
       "      <td>99.07500</td>\n",
       "      <td>45.38750</td>\n",
       "      <td>16.19499</td>\n",
       "    </tr>\n",
       "    <tr>\n",
       "      <th>std</th>\n",
       "      <td>59.37489</td>\n",
       "      <td>16.10148</td>\n",
       "      <td>7.25469</td>\n",
       "    </tr>\n",
       "    <tr>\n",
       "      <th>min</th>\n",
       "      <td>0.00000</td>\n",
       "      <td>15.00000</td>\n",
       "      <td>6.26900</td>\n",
       "    </tr>\n",
       "    <tr>\n",
       "      <th>25%</th>\n",
       "      <td>45.50000</td>\n",
       "      <td>32.00000</td>\n",
       "      <td>10.44525</td>\n",
       "    </tr>\n",
       "    <tr>\n",
       "      <th>50%</th>\n",
       "      <td>100.50000</td>\n",
       "      <td>46.00000</td>\n",
       "      <td>14.07650</td>\n",
       "    </tr>\n",
       "    <tr>\n",
       "      <th>75%</th>\n",
       "      <td>149.50000</td>\n",
       "      <td>58.25000</td>\n",
       "      <td>19.48075</td>\n",
       "    </tr>\n",
       "    <tr>\n",
       "      <th>max</th>\n",
       "      <td>199.00000</td>\n",
       "      <td>74.00000</td>\n",
       "      <td>38.24700</td>\n",
       "    </tr>\n",
       "  </tbody>\n",
       "</table>\n",
       "</div>"
      ],
      "text/plain": [
       "             Id       Age   Na_to_K\n",
       "count 160.00000 160.00000 160.00000\n",
       "mean   99.07500  45.38750  16.19499\n",
       "std    59.37489  16.10148   7.25469\n",
       "min     0.00000  15.00000   6.26900\n",
       "25%    45.50000  32.00000  10.44525\n",
       "50%   100.50000  46.00000  14.07650\n",
       "75%   149.50000  58.25000  19.48075\n",
       "max   199.00000  74.00000  38.24700"
      ]
     },
     "execution_count": 6,
     "metadata": {},
     "output_type": "execute_result"
    }
   ],
   "source": [
    "data.describe()"
   ]
  },
  {
   "cell_type": "code",
   "execution_count": 7,
   "id": "0634adab",
   "metadata": {
    "ExecuteTime": {
     "end_time": "2023-03-17T18:10:39.595844Z",
     "start_time": "2023-03-17T18:10:39.569577Z"
    }
   },
   "outputs": [
    {
     "name": "stdout",
     "output_type": "stream",
     "text": [
      "Percentage of missing value:\n",
      " Id            0.00000\n",
      "Age           0.00000\n",
      "Sex           0.00000\n",
      "BP            0.00000\n",
      "Cholesterol   0.00000\n",
      "Na_to_K       0.00000\n",
      "Drug          0.00000\n",
      "dtype: float64\n"
     ]
    }
   ],
   "source": [
    "print(\"Percentage of missing value:\\n\",data.isnull().sum()/data.shape[0])"
   ]
  },
  {
   "cell_type": "code",
   "execution_count": 8,
   "id": "19f3540e",
   "metadata": {
    "ExecuteTime": {
     "end_time": "2023-03-17T18:10:39.626762Z",
     "start_time": "2023-03-17T18:10:39.598866Z"
    }
   },
   "outputs": [
    {
     "data": {
      "text/plain": [
       "False"
      ]
     },
     "execution_count": 8,
     "metadata": {},
     "output_type": "execute_result"
    }
   ],
   "source": [
    "data.duplicated().any()"
   ]
  },
  {
   "cell_type": "code",
   "execution_count": 9,
   "id": "f3959a25",
   "metadata": {
    "ExecuteTime": {
     "end_time": "2023-03-17T18:10:39.658679Z",
     "start_time": "2023-03-17T18:10:39.632747Z"
    }
   },
   "outputs": [
    {
     "data": {
      "text/plain": [
       "Index(['Id', 'Age', 'Sex', 'BP', 'Cholesterol', 'Na_to_K', 'Drug'], dtype='object')"
      ]
     },
     "execution_count": 9,
     "metadata": {},
     "output_type": "execute_result"
    }
   ],
   "source": [
    "data.columns"
   ]
  },
  {
   "cell_type": "code",
   "execution_count": 10,
   "id": "13ee49fa",
   "metadata": {
    "ExecuteTime": {
     "end_time": "2023-03-17T18:10:41.104614Z",
     "start_time": "2023-03-17T18:10:39.661669Z"
    }
   },
   "outputs": [
    {
     "data": {
      "text/plain": [
       "<Figure size 360x360 with 0 Axes>"
      ]
     },
     "metadata": {},
     "output_type": "display_data"
    },
    {
     "data": {
      "image/png": "[encoded data removed]",
      "text/plain": [
       "<Figure size 360x360 with 1 Axes>"
      ]
     },
     "metadata": {
      "needs_background": "light"
     },
     "output_type": "display_data"
    }
   ],
   "source": [
    "plt.figure(figsize=(5,5))\n",
    "sns.displot(x='Age',kde=True,data=data)\n",
    "plt.show()"
   ]
  },
  {
   "cell_type": "code",
   "execution_count": 11,
   "id": "4e2808c8",
   "metadata": {
    "ExecuteTime": {
     "end_time": "2023-03-17T18:10:41.277833Z",
     "start_time": "2023-03-17T18:10:41.108602Z"
    }
   },
   "outputs": [
    {
     "data": {
      "image/png": "[encoded data removed]",
      "text/plain": [
       "<Figure size 360x360 with 1 Axes>"
      ]
     },
     "metadata": {
      "needs_background": "light"
     },
     "output_type": "display_data"
    }
   ],
   "source": [
    "plt.figure(figsize=(5,5))\n",
    "ax=sns.countplot(x='Sex',data=data)\n",
    "total = data.shape[0]\n",
    "for p in ax.patches:\n",
    "    percentage = '{:.2f}%'.format(100 * p.get_height() / total)\n",
    "    x = p.get_x() + p.get_width() / 3\n",
    "    y = p.get_y() + p.get_height()\n",
    "    ax.annotate(percentage, (x, y))\n",
    "    \n",
    "plt.show()"
   ]
  },
  {
   "cell_type": "code",
   "execution_count": 12,
   "id": "23dad415",
   "metadata": {
    "ExecuteTime": {
     "end_time": "2023-03-17T18:10:41.293467Z",
     "start_time": "2023-03-17T18:10:41.281789Z"
    }
   },
   "outputs": [
    {
     "data": {
      "text/plain": [
       "HIGH      62\n",
       "NORMAL    51\n",
       "LOW       47\n",
       "Name: BP, dtype: int64"
      ]
     },
     "execution_count": 12,
     "metadata": {},
     "output_type": "execute_result"
    }
   ],
   "source": [
    "data['BP'].value_counts()"
   ]
  },
  {
   "cell_type": "code",
   "execution_count": 13,
   "id": "40e0b9fd",
   "metadata": {
    "ExecuteTime": {
     "end_time": "2023-03-17T18:10:41.502026Z",
     "start_time": "2023-03-17T18:10:41.293467Z"
    }
   },
   "outputs": [
    {
     "data": {
      "image/png": "[encoded data removed]",
      "text/plain": [
       "<Figure size 720x360 with 1 Axes>"
      ]
     },
     "metadata": {
      "needs_background": "light"
     },
     "output_type": "display_data"
    }
   ],
   "source": [
    "plt.figure(figsize=(10,5))\n",
    "ax=sns.countplot(x='BP',data=data)\n",
    "total = data.shape[0]\n",
    "for p in ax.patches:\n",
    "    percentage = '{:.2f}%'.format(100 * p.get_height() / total)\n",
    "    x = p.get_x() + p.get_width() / 3\n",
    "    y = p.get_y() + p.get_height()\n",
    "    ax.annotate(percentage, (x, y))\n",
    "    \n",
    "plt.show()"
   ]
  },
  {
   "cell_type": "code",
   "execution_count": 14,
   "id": "fba0e96d",
   "metadata": {
    "ExecuteTime": {
     "end_time": "2023-03-17T18:10:41.659405Z",
     "start_time": "2023-03-17T18:10:41.507256Z"
    }
   },
   "outputs": [
    {
     "data": {
      "image/png": "[encoded data removed]",
      "text/plain": [
       "<Figure size 720x360 with 1 Axes>"
      ]
     },
     "metadata": {
      "needs_background": "light"
     },
     "output_type": "display_data"
    }
   ],
   "source": [
    "plt.figure(figsize=(10,5))\n",
    "ax=sns.countplot(x='Cholesterol',data=data)\n",
    "total = data.shape[0]\n",
    "for p in ax.patches:\n",
    "    percentage = '{:.2f}%'.format(100 * p.get_height() / total)\n",
    "    x = p.get_x() + p.get_width() / 3\n",
    "    y = p.get_y() + p.get_height()\n",
    "    ax.annotate(percentage, (x, y))\n",
    "    \n",
    "plt.show()"
   ]
  },
  {
   "cell_type": "code",
   "execution_count": 15,
   "id": "d542636f",
   "metadata": {
    "ExecuteTime": {
     "end_time": "2023-03-17T18:10:41.675362Z",
     "start_time": "2023-03-17T18:10:41.662397Z"
    }
   },
   "outputs": [
    {
     "data": {
      "text/plain": [
       "DrugY    76\n",
       "drugX    43\n",
       "drugA    17\n",
       "drugB    13\n",
       "drugC    11\n",
       "Name: Drug, dtype: int64"
      ]
     },
     "execution_count": 15,
     "metadata": {},
     "output_type": "execute_result"
    }
   ],
   "source": [
    "data['Drug'].value_counts()"
   ]
  },
  {
   "cell_type": "code",
   "execution_count": 16,
   "id": "644c3e51",
   "metadata": {
    "ExecuteTime": {
     "end_time": "2023-03-17T18:10:41.866053Z",
     "start_time": "2023-03-17T18:10:41.678354Z"
    }
   },
   "outputs": [
    {
     "data": {
      "image/png": "[encoded data removed]",
      "text/plain": [
       "<Figure size 720x360 with 1 Axes>"
      ]
     },
     "metadata": {
      "needs_background": "light"
     },
     "output_type": "display_data"
    }
   ],
   "source": [
    "plt.figure(figsize=(10,5))\n",
    "sns.countplot(x='Drug',data=data,palette=\"RdYlBu\")\n",
    "plt.show()"
   ]
  },
  {
   "cell_type": "code",
   "execution_count": 17,
   "id": "497e01ac",
   "metadata": {
    "ExecuteTime": {
     "end_time": "2023-03-17T18:10:41.895596Z",
     "start_time": "2023-03-17T18:10:41.874041Z"
    }
   },
   "outputs": [
    {
     "data": {
      "text/plain": [
       "Drug   Sex\n",
       "DrugY  F      41\n",
       "       M      35\n",
       "drugA  M      11\n",
       "       F       6\n",
       "drugB  M       8\n",
       "       F       5\n",
       "drugC  M       8\n",
       "       F       3\n",
       "drugX  F      22\n",
       "       M      21\n",
       "Name: Sex, dtype: int64"
      ]
     },
     "execution_count": 17,
     "metadata": {},
     "output_type": "execute_result"
    }
   ],
   "source": [
    "data.groupby(\"Drug\")[\"Sex\"].value_counts()"
   ]
  },
  {
   "cell_type": "code",
   "execution_count": 18,
   "id": "8e54e7a0",
   "metadata": {
    "ExecuteTime": {
     "end_time": "2023-03-17T18:10:42.151883Z",
     "start_time": "2023-03-17T18:10:41.895596Z"
    }
   },
   "outputs": [
    {
     "data": {
      "image/png": "[encoded data removed]",
      "text/plain": [
       "<Figure size 720x360 with 1 Axes>"
      ]
     },
     "metadata": {
      "needs_background": "light"
     },
     "output_type": "display_data"
    }
   ],
   "source": [
    "plt.figure(figsize=(10,5))\n",
    "sns.countplot(x=\"Drug\",hue=\"Sex\",data=data)\n",
    "plt.show()"
   ]
  },
  {
   "cell_type": "code",
   "execution_count": 19,
   "id": "230659d7",
   "metadata": {
    "ExecuteTime": {
     "end_time": "2023-03-17T18:10:42.356101Z",
     "start_time": "2023-03-17T18:10:42.151883Z"
    }
   },
   "outputs": [
    {
     "data": {
      "image/png": "[encoded data removed]",
      "text/plain": [
       "<Figure size 720x360 with 1 Axes>"
      ]
     },
     "metadata": {
      "needs_background": "light"
     },
     "output_type": "display_data"
    }
   ],
   "source": [
    "plt.figure(figsize=(10,5))\n",
    "sns.countplot(x=\"Cholesterol\",hue=\"Sex\",data=data)\n",
    "plt.show()"
   ]
  },
  {
   "cell_type": "code",
   "execution_count": 20,
   "id": "4144a103",
   "metadata": {
    "ExecuteTime": {
     "end_time": "2023-03-17T18:10:42.570079Z",
     "start_time": "2023-03-17T18:10:42.360090Z"
    }
   },
   "outputs": [
    {
     "data": {
      "image/png": "[encoded data removed]",
      "text/plain": [
       "<Figure size 720x360 with 1 Axes>"
      ]
     },
     "metadata": {
      "needs_background": "light"
     },
     "output_type": "display_data"
    }
   ],
   "source": [
    "plt.figure(figsize=(10,5))\n",
    "sns.countplot(x=\"BP\",hue=\"Sex\",data=data)\n",
    "plt.show()"
   ]
  },
  {
   "cell_type": "code",
   "execution_count": 21,
   "id": "98d437c5",
   "metadata": {
    "ExecuteTime": {
     "end_time": "2023-03-17T18:10:42.623888Z",
     "start_time": "2023-03-17T18:10:42.574033Z"
    }
   },
   "outputs": [
    {
     "data": {
      "text/html": [
       "<div>\n",
       "<style scoped>\n",
       "    .dataframe tbody tr th:only-of-type {\n",
       "        vertical-align: middle;\n",
       "    }\n",
       "\n",
       "    .dataframe tbody tr th {\n",
       "        vertical-align: top;\n",
       "    }\n",
       "\n",
       "    .dataframe thead th {\n",
       "        text-align: right;\n",
       "    }\n",
       "</style>\n",
       "<table border=\"1\" class=\"dataframe\">\n",
       "  <thead>\n",
       "    <tr style=\"text-align: right;\">\n",
       "      <th></th>\n",
       "      <th>count</th>\n",
       "      <th>mean</th>\n",
       "      <th>std</th>\n",
       "      <th>min</th>\n",
       "      <th>25%</th>\n",
       "      <th>50%</th>\n",
       "      <th>75%</th>\n",
       "      <th>max</th>\n",
       "    </tr>\n",
       "    <tr>\n",
       "      <th>Drug</th>\n",
       "      <th></th>\n",
       "      <th></th>\n",
       "      <th></th>\n",
       "      <th></th>\n",
       "      <th></th>\n",
       "      <th></th>\n",
       "      <th></th>\n",
       "      <th></th>\n",
       "    </tr>\n",
       "  </thead>\n",
       "  <tbody>\n",
       "    <tr>\n",
       "      <th>DrugY</th>\n",
       "      <td>76.00000</td>\n",
       "      <td>45.50000</td>\n",
       "      <td>16.77021</td>\n",
       "      <td>15.00000</td>\n",
       "      <td>31.75000</td>\n",
       "      <td>44.00000</td>\n",
       "      <td>60.25000</td>\n",
       "      <td>74.00000</td>\n",
       "    </tr>\n",
       "    <tr>\n",
       "      <th>drugA</th>\n",
       "      <td>17.00000</td>\n",
       "      <td>36.17647</td>\n",
       "      <td>9.76112</td>\n",
       "      <td>20.00000</td>\n",
       "      <td>31.00000</td>\n",
       "      <td>37.00000</td>\n",
       "      <td>45.00000</td>\n",
       "      <td>50.00000</td>\n",
       "    </tr>\n",
       "    <tr>\n",
       "      <th>drugB</th>\n",
       "      <td>13.00000</td>\n",
       "      <td>62.46154</td>\n",
       "      <td>7.12525</td>\n",
       "      <td>51.00000</td>\n",
       "      <td>58.00000</td>\n",
       "      <td>60.00000</td>\n",
       "      <td>68.00000</td>\n",
       "      <td>74.00000</td>\n",
       "    </tr>\n",
       "    <tr>\n",
       "      <th>drugC</th>\n",
       "      <td>11.00000</td>\n",
       "      <td>44.81818</td>\n",
       "      <td>17.55459</td>\n",
       "      <td>16.00000</td>\n",
       "      <td>34.50000</td>\n",
       "      <td>47.00000</td>\n",
       "      <td>52.50000</td>\n",
       "      <td>72.00000</td>\n",
       "    </tr>\n",
       "    <tr>\n",
       "      <th>drugX</th>\n",
       "      <td>43.00000</td>\n",
       "      <td>43.81395</td>\n",
       "      <td>15.09534</td>\n",
       "      <td>15.00000</td>\n",
       "      <td>33.00000</td>\n",
       "      <td>45.00000</td>\n",
       "      <td>54.50000</td>\n",
       "      <td>72.00000</td>\n",
       "    </tr>\n",
       "  </tbody>\n",
       "</table>\n",
       "</div>"
      ],
      "text/plain": [
       "         count     mean      std      min      25%      50%      75%      max\n",
       "Drug                                                                         \n",
       "DrugY 76.00000 45.50000 16.77021 15.00000 31.75000 44.00000 60.25000 74.00000\n",
       "drugA 17.00000 36.17647  9.76112 20.00000 31.00000 37.00000 45.00000 50.00000\n",
       "drugB 13.00000 62.46154  7.12525 51.00000 58.00000 60.00000 68.00000 74.00000\n",
       "drugC 11.00000 44.81818 17.55459 16.00000 34.50000 47.00000 52.50000 72.00000\n",
       "drugX 43.00000 43.81395 15.09534 15.00000 33.00000 45.00000 54.50000 72.00000"
      ]
     },
     "execution_count": 21,
     "metadata": {},
     "output_type": "execute_result"
    }
   ],
   "source": [
    "data.groupby(\"Drug\")[\"Age\"].describe()"
   ]
  },
  {
   "cell_type": "code",
   "execution_count": 22,
   "id": "adc5f1d8",
   "metadata": {
    "ExecuteTime": {
     "end_time": "2023-03-17T18:10:42.860316Z",
     "start_time": "2023-03-17T18:10:42.624602Z"
    }
   },
   "outputs": [
    {
     "data": {
      "image/png": "[encoded data removed]",
      "text/plain": [
       "<Figure size 720x360 with 1 Axes>"
      ]
     },
     "metadata": {
      "needs_background": "light"
     },
     "output_type": "display_data"
    }
   ],
   "source": [
    "plt.figure(figsize=(10,5))\n",
    "sns.boxplot(x=\"Drug\", y=\"Age\", data=data)\n",
    "plt.show()"
   ]
  },
  {
   "cell_type": "code",
   "execution_count": 23,
   "id": "f8f857bc",
   "metadata": {
    "ExecuteTime": {
     "end_time": "2023-03-17T18:10:42.891036Z",
     "start_time": "2023-03-17T18:10:42.863307Z"
    }
   },
   "outputs": [
    {
     "data": {
      "text/plain": [
       "Drug   BP    \n",
       "DrugY  HIGH      32\n",
       "       LOW       24\n",
       "       NORMAL    20\n",
       "drugA  HIGH      17\n",
       "drugB  HIGH      13\n",
       "drugC  LOW       11\n",
       "drugX  NORMAL    31\n",
       "       LOW       12\n",
       "Name: BP, dtype: int64"
      ]
     },
     "execution_count": 23,
     "metadata": {},
     "output_type": "execute_result"
    }
   ],
   "source": [
    "data.groupby('Drug')['BP'].value_counts()"
   ]
  },
  {
   "cell_type": "code",
   "execution_count": 24,
   "id": "8f03f369",
   "metadata": {
    "ExecuteTime": {
     "end_time": "2023-03-17T18:10:43.147071Z",
     "start_time": "2023-03-17T18:10:42.891036Z"
    }
   },
   "outputs": [
    {
     "data": {
      "image/png": "[encoded data removed]",
      "text/plain": [
       "<Figure size 720x360 with 1 Axes>"
      ]
     },
     "metadata": {
      "needs_background": "light"
     },
     "output_type": "display_data"
    }
   ],
   "source": [
    "plt.figure(figsize=(10,5))\n",
    "sns.countplot(x=\"Drug\",hue=\"BP\",data=data,palette=\"Reds\")\n",
    "plt.show()"
   ]
  },
  {
   "cell_type": "code",
   "execution_count": 25,
   "id": "9421602a",
   "metadata": {
    "ExecuteTime": {
     "end_time": "2023-03-17T18:10:43.173702Z",
     "start_time": "2023-03-17T18:10:43.151063Z"
    }
   },
   "outputs": [
    {
     "data": {
      "text/plain": [
       "Drug   Cholesterol\n",
       "DrugY  HIGH           43\n",
       "       NORMAL         33\n",
       "drugA  NORMAL          9\n",
       "       HIGH            8\n",
       "drugB  HIGH            7\n",
       "       NORMAL          6\n",
       "drugC  HIGH           11\n",
       "drugX  NORMAL         24\n",
       "       HIGH           19\n",
       "Name: Cholesterol, dtype: int64"
      ]
     },
     "execution_count": 25,
     "metadata": {},
     "output_type": "execute_result"
    }
   ],
   "source": [
    "data.groupby('Drug')['Cholesterol'].value_counts()"
   ]
  },
  {
   "cell_type": "code",
   "execution_count": 26,
   "id": "3719728c",
   "metadata": {
    "ExecuteTime": {
     "end_time": "2023-03-17T18:10:43.400329Z",
     "start_time": "2023-03-17T18:10:43.178686Z"
    }
   },
   "outputs": [
    {
     "data": {
      "image/png": "[encoded data removed]",
      "text/plain": [
       "<Figure size 720x360 with 1 Axes>"
      ]
     },
     "metadata": {
      "needs_background": "light"
     },
     "output_type": "display_data"
    }
   ],
   "source": [
    "plt.figure(figsize=(10,5))\n",
    "sns.countplot(x=\"Drug\",hue=\"Cholesterol\",data=data,palette=\"Reds\")\n",
    "plt.show()"
   ]
  },
  {
   "cell_type": "code",
   "execution_count": 27,
   "id": "300bc1b3",
   "metadata": {
    "ExecuteTime": {
     "end_time": "2023-03-17T18:10:43.568627Z",
     "start_time": "2023-03-17T18:10:43.410285Z"
    }
   },
   "outputs": [
    {
     "data": {
      "text/html": [
       "<div>\n",
       "<style scoped>\n",
       "    .dataframe tbody tr th:only-of-type {\n",
       "        vertical-align: middle;\n",
       "    }\n",
       "\n",
       "    .dataframe tbody tr th {\n",
       "        vertical-align: top;\n",
       "    }\n",
       "\n",
       "    .dataframe thead th {\n",
       "        text-align: right;\n",
       "    }\n",
       "</style>\n",
       "<table border=\"1\" class=\"dataframe\">\n",
       "  <thead>\n",
       "    <tr style=\"text-align: right;\">\n",
       "      <th></th>\n",
       "      <th>count</th>\n",
       "      <th>mean</th>\n",
       "      <th>std</th>\n",
       "      <th>min</th>\n",
       "      <th>25%</th>\n",
       "      <th>50%</th>\n",
       "      <th>75%</th>\n",
       "      <th>max</th>\n",
       "    </tr>\n",
       "    <tr>\n",
       "      <th>Drug</th>\n",
       "      <th></th>\n",
       "      <th></th>\n",
       "      <th></th>\n",
       "      <th></th>\n",
       "      <th></th>\n",
       "      <th></th>\n",
       "      <th></th>\n",
       "      <th></th>\n",
       "    </tr>\n",
       "  </thead>\n",
       "  <tbody>\n",
       "    <tr>\n",
       "      <th>DrugY</th>\n",
       "      <td>76.00000</td>\n",
       "      <td>22.14170</td>\n",
       "      <td>6.19663</td>\n",
       "      <td>15.01500</td>\n",
       "      <td>17.01425</td>\n",
       "      <td>19.90450</td>\n",
       "      <td>25.89900</td>\n",
       "      <td>38.24700</td>\n",
       "    </tr>\n",
       "    <tr>\n",
       "      <th>drugA</th>\n",
       "      <td>17.00000</td>\n",
       "      <td>10.55324</td>\n",
       "      <td>2.05049</td>\n",
       "      <td>6.26900</td>\n",
       "      <td>9.47500</td>\n",
       "      <td>10.44600</td>\n",
       "      <td>11.87100</td>\n",
       "      <td>13.97200</td>\n",
       "    </tr>\n",
       "    <tr>\n",
       "      <th>drugB</th>\n",
       "      <td>13.00000</td>\n",
       "      <td>11.59277</td>\n",
       "      <td>2.01257</td>\n",
       "      <td>8.62100</td>\n",
       "      <td>9.94500</td>\n",
       "      <td>11.00900</td>\n",
       "      <td>13.93400</td>\n",
       "      <td>14.23900</td>\n",
       "    </tr>\n",
       "    <tr>\n",
       "      <th>drugC</th>\n",
       "      <td>11.00000</td>\n",
       "      <td>10.76900</td>\n",
       "      <td>1.94322</td>\n",
       "      <td>6.76900</td>\n",
       "      <td>10.20250</td>\n",
       "      <td>11.03700</td>\n",
       "      <td>11.88650</td>\n",
       "      <td>13.12700</td>\n",
       "    </tr>\n",
       "    <tr>\n",
       "      <th>drugX</th>\n",
       "      <td>43.00000</td>\n",
       "      <td>10.69440</td>\n",
       "      <td>2.21358</td>\n",
       "      <td>6.68300</td>\n",
       "      <td>9.12700</td>\n",
       "      <td>10.10300</td>\n",
       "      <td>12.49900</td>\n",
       "      <td>14.64200</td>\n",
       "    </tr>\n",
       "  </tbody>\n",
       "</table>\n",
       "</div>"
      ],
      "text/plain": [
       "         count     mean     std      min      25%      50%      75%      max\n",
       "Drug                                                                        \n",
       "DrugY 76.00000 22.14170 6.19663 15.01500 17.01425 19.90450 25.89900 38.24700\n",
       "drugA 17.00000 10.55324 2.05049  6.26900  9.47500 10.44600 11.87100 13.97200\n",
       "drugB 13.00000 11.59277 2.01257  8.62100  9.94500 11.00900 13.93400 14.23900\n",
       "drugC 11.00000 10.76900 1.94322  6.76900 10.20250 11.03700 11.88650 13.12700\n",
       "drugX 43.00000 10.69440 2.21358  6.68300  9.12700 10.10300 12.49900 14.64200"
      ]
     },
     "execution_count": 27,
     "metadata": {},
     "output_type": "execute_result"
    }
   ],
   "source": [
    "data.groupby('Drug')['Na_to_K'].describe()"
   ]
  },
  {
   "cell_type": "code",
   "execution_count": 28,
   "id": "9322a162",
   "metadata": {
    "ExecuteTime": {
     "end_time": "2023-03-17T18:10:43.927972Z",
     "start_time": "2023-03-17T18:10:43.571619Z"
    }
   },
   "outputs": [
    {
     "data": {
      "image/png": "[encoded data removed]",
      "text/plain": [
       "<Figure size 720x360 with 1 Axes>"
      ]
     },
     "metadata": {
      "needs_background": "light"
     },
     "output_type": "display_data"
    }
   ],
   "source": [
    "plt.figure(figsize=(10,5))\n",
    "sns.barplot(x=\"Drug\",y=\"Na_to_K\",data=data)\n",
    "plt.show()"
   ]
  },
  {
   "cell_type": "code",
   "execution_count": 29,
   "id": "6cbfabcb",
   "metadata": {
    "ExecuteTime": {
     "end_time": "2023-03-17T18:10:43.951115Z",
     "start_time": "2023-03-17T18:10:43.931924Z"
    }
   },
   "outputs": [
    {
     "data": {
      "text/plain": [
       "Index(['Id', 'Age', 'Sex', 'BP', 'Cholesterol', 'Na_to_K', 'Drug'], dtype='object')"
      ]
     },
     "execution_count": 29,
     "metadata": {},
     "output_type": "execute_result"
    }
   ],
   "source": [
    "data.columns"
   ]
  },
  {
   "cell_type": "code",
   "execution_count": 30,
   "id": "301c69ff",
   "metadata": {
    "ExecuteTime": {
     "end_time": "2023-03-17T18:10:43.979276Z",
     "start_time": "2023-03-17T18:10:43.951115Z"
    }
   },
   "outputs": [
    {
     "name": "stdout",
     "output_type": "stream",
     "text": [
      "<class 'pandas.core.frame.DataFrame'>\n",
      "RangeIndex: 160 entries, 0 to 159\n",
      "Data columns (total 7 columns):\n",
      " #   Column       Non-Null Count  Dtype  \n",
      "---  ------       --------------  -----  \n",
      " 0   Id           160 non-null    int64  \n",
      " 1   Age          160 non-null    int64  \n",
      " 2   Sex          160 non-null    object \n",
      " 3   BP           160 non-null    object \n",
      " 4   Cholesterol  160 non-null    object \n",
      " 5   Na_to_K      160 non-null    float64\n",
      " 6   Drug         160 non-null    object \n",
      "dtypes: float64(1), int64(2), object(4)\n",
      "memory usage: 8.9+ KB\n"
     ]
    }
   ],
   "source": [
    "data.info()"
   ]
  },
  {
   "cell_type": "code",
   "execution_count": 31,
   "id": "9116d497",
   "metadata": {
    "ExecuteTime": {
     "end_time": "2023-03-17T18:10:43.995111Z",
     "start_time": "2023-03-17T18:10:43.979276Z"
    }
   },
   "outputs": [],
   "source": [
    "cat=[ 'Sex', 'BP', 'Cholesterol']\n"
   ]
  },
  {
   "cell_type": "code",
   "execution_count": 32,
   "id": "1fd708ef",
   "metadata": {
    "ExecuteTime": {
     "end_time": "2023-03-17T18:10:44.019861Z",
     "start_time": "2023-03-17T18:10:43.995111Z"
    }
   },
   "outputs": [],
   "source": [
    "data=pd.get_dummies(data,columns=cat,drop_first=True)"
   ]
  },
  {
   "cell_type": "code",
   "execution_count": 33,
   "id": "02d5a3e5",
   "metadata": {
    "ExecuteTime": {
     "end_time": "2023-03-17T18:10:44.052356Z",
     "start_time": "2023-03-17T18:10:44.025629Z"
    }
   },
   "outputs": [
    {
     "data": {
      "text/html": [
       "<div>\n",
       "<style scoped>\n",
       "    .dataframe tbody tr th:only-of-type {\n",
       "        vertical-align: middle;\n",
       "    }\n",
       "\n",
       "    .dataframe tbody tr th {\n",
       "        vertical-align: top;\n",
       "    }\n",
       "\n",
       "    .dataframe thead th {\n",
       "        text-align: right;\n",
       "    }\n",
       "</style>\n",
       "<table border=\"1\" class=\"dataframe\">\n",
       "  <thead>\n",
       "    <tr style=\"text-align: right;\">\n",
       "      <th></th>\n",
       "      <th>Id</th>\n",
       "      <th>Age</th>\n",
       "      <th>Na_to_K</th>\n",
       "      <th>Drug</th>\n",
       "      <th>Sex_M</th>\n",
       "      <th>BP_LOW</th>\n",
       "      <th>BP_NORMAL</th>\n",
       "      <th>Cholesterol_NORMAL</th>\n",
       "    </tr>\n",
       "  </thead>\n",
       "  <tbody>\n",
       "    <tr>\n",
       "      <th>0</th>\n",
       "      <td>79</td>\n",
       "      <td>32</td>\n",
       "      <td>10.84000</td>\n",
       "      <td>drugX</td>\n",
       "      <td>0</td>\n",
       "      <td>1</td>\n",
       "      <td>0</td>\n",
       "      <td>1</td>\n",
       "    </tr>\n",
       "    <tr>\n",
       "      <th>1</th>\n",
       "      <td>197</td>\n",
       "      <td>52</td>\n",
       "      <td>9.89400</td>\n",
       "      <td>drugX</td>\n",
       "      <td>1</td>\n",
       "      <td>0</td>\n",
       "      <td>1</td>\n",
       "      <td>0</td>\n",
       "    </tr>\n",
       "    <tr>\n",
       "      <th>2</th>\n",
       "      <td>38</td>\n",
       "      <td>39</td>\n",
       "      <td>9.70900</td>\n",
       "      <td>drugX</td>\n",
       "      <td>0</td>\n",
       "      <td>0</td>\n",
       "      <td>1</td>\n",
       "      <td>1</td>\n",
       "    </tr>\n",
       "    <tr>\n",
       "      <th>3</th>\n",
       "      <td>24</td>\n",
       "      <td>33</td>\n",
       "      <td>33.48600</td>\n",
       "      <td>DrugY</td>\n",
       "      <td>0</td>\n",
       "      <td>1</td>\n",
       "      <td>0</td>\n",
       "      <td>0</td>\n",
       "    </tr>\n",
       "    <tr>\n",
       "      <th>4</th>\n",
       "      <td>122</td>\n",
       "      <td>34</td>\n",
       "      <td>22.45600</td>\n",
       "      <td>DrugY</td>\n",
       "      <td>1</td>\n",
       "      <td>0</td>\n",
       "      <td>1</td>\n",
       "      <td>0</td>\n",
       "    </tr>\n",
       "  </tbody>\n",
       "</table>\n",
       "</div>"
      ],
      "text/plain": [
       "    Id  Age  Na_to_K   Drug  Sex_M  BP_LOW  BP_NORMAL  Cholesterol_NORMAL\n",
       "0   79   32 10.84000  drugX      0       1          0                   1\n",
       "1  197   52  9.89400  drugX      1       0          1                   0\n",
       "2   38   39  9.70900  drugX      0       0          1                   1\n",
       "3   24   33 33.48600  DrugY      0       1          0                   0\n",
       "4  122   34 22.45600  DrugY      1       0          1                   0"
      ]
     },
     "execution_count": 33,
     "metadata": {},
     "output_type": "execute_result"
    }
   ],
   "source": [
    "data.head()"
   ]
  },
  {
   "cell_type": "code",
   "execution_count": 34,
   "id": "750c605e",
   "metadata": {
    "ExecuteTime": {
     "end_time": "2023-03-17T18:10:44.075670Z",
     "start_time": "2023-03-17T18:10:44.057344Z"
    }
   },
   "outputs": [],
   "source": [
    "data.drop(['Id'],axis=1,inplace=True)"
   ]
  },
  {
   "cell_type": "code",
   "execution_count": 35,
   "id": "0cdcf0cc",
   "metadata": {
    "ExecuteTime": {
     "end_time": "2023-03-17T18:10:44.111998Z",
     "start_time": "2023-03-17T18:10:44.075670Z"
    },
    "scrolled": true
   },
   "outputs": [
    {
     "data": {
      "text/html": [
       "<div>\n",
       "<style scoped>\n",
       "    .dataframe tbody tr th:only-of-type {\n",
       "        vertical-align: middle;\n",
       "    }\n",
       "\n",
       "    .dataframe tbody tr th {\n",
       "        vertical-align: top;\n",
       "    }\n",
       "\n",
       "    .dataframe thead th {\n",
       "        text-align: right;\n",
       "    }\n",
       "</style>\n",
       "<table border=\"1\" class=\"dataframe\">\n",
       "  <thead>\n",
       "    <tr style=\"text-align: right;\">\n",
       "      <th></th>\n",
       "      <th>Age</th>\n",
       "      <th>Na_to_K</th>\n",
       "      <th>Drug</th>\n",
       "      <th>Sex_M</th>\n",
       "      <th>BP_LOW</th>\n",
       "      <th>BP_NORMAL</th>\n",
       "      <th>Cholesterol_NORMAL</th>\n",
       "    </tr>\n",
       "  </thead>\n",
       "  <tbody>\n",
       "    <tr>\n",
       "      <th>0</th>\n",
       "      <td>32</td>\n",
       "      <td>10.84000</td>\n",
       "      <td>drugX</td>\n",
       "      <td>0</td>\n",
       "      <td>1</td>\n",
       "      <td>0</td>\n",
       "      <td>1</td>\n",
       "    </tr>\n",
       "    <tr>\n",
       "      <th>1</th>\n",
       "      <td>52</td>\n",
       "      <td>9.89400</td>\n",
       "      <td>drugX</td>\n",
       "      <td>1</td>\n",
       "      <td>0</td>\n",
       "      <td>1</td>\n",
       "      <td>0</td>\n",
       "    </tr>\n",
       "    <tr>\n",
       "      <th>2</th>\n",
       "      <td>39</td>\n",
       "      <td>9.70900</td>\n",
       "      <td>drugX</td>\n",
       "      <td>0</td>\n",
       "      <td>0</td>\n",
       "      <td>1</td>\n",
       "      <td>1</td>\n",
       "    </tr>\n",
       "    <tr>\n",
       "      <th>3</th>\n",
       "      <td>33</td>\n",
       "      <td>33.48600</td>\n",
       "      <td>DrugY</td>\n",
       "      <td>0</td>\n",
       "      <td>1</td>\n",
       "      <td>0</td>\n",
       "      <td>0</td>\n",
       "    </tr>\n",
       "    <tr>\n",
       "      <th>4</th>\n",
       "      <td>34</td>\n",
       "      <td>22.45600</td>\n",
       "      <td>DrugY</td>\n",
       "      <td>1</td>\n",
       "      <td>0</td>\n",
       "      <td>1</td>\n",
       "      <td>0</td>\n",
       "    </tr>\n",
       "  </tbody>\n",
       "</table>\n",
       "</div>"
      ],
      "text/plain": [
       "   Age  Na_to_K   Drug  Sex_M  BP_LOW  BP_NORMAL  Cholesterol_NORMAL\n",
       "0   32 10.84000  drugX      0       1          0                   1\n",
       "1   52  9.89400  drugX      1       0          1                   0\n",
       "2   39  9.70900  drugX      0       0          1                   1\n",
       "3   33 33.48600  DrugY      0       1          0                   0\n",
       "4   34 22.45600  DrugY      1       0          1                   0"
      ]
     },
     "execution_count": 35,
     "metadata": {},
     "output_type": "execute_result"
    }
   ],
   "source": [
    "data.head()"
   ]
  },
  {
   "cell_type": "code",
   "execution_count": 36,
   "id": "08050972",
   "metadata": {
    "ExecuteTime": {
     "end_time": "2023-03-17T18:10:44.623711Z",
     "start_time": "2023-03-17T18:10:44.115989Z"
    }
   },
   "outputs": [
    {
     "data": {
      "image/png": "[encoded data removed]",
      "text/plain": [
       "<Figure size 720x360 with 2 Axes>"
      ]
     },
     "metadata": {
      "needs_background": "light"
     },
     "output_type": "display_data"
    }
   ],
   "source": [
    "plt.figure(figsize=(10,5))\n",
    "sns.heatmap(data.corr(),annot=True)\n",
    "plt.show()"
   ]
  },
  {
   "cell_type": "code",
   "execution_count": 37,
   "id": "6e4a9d6a",
   "metadata": {
    "ExecuteTime": {
     "end_time": "2023-03-17T18:10:44.639332Z",
     "start_time": "2023-03-17T18:10:44.623711Z"
    }
   },
   "outputs": [],
   "source": [
    "X = data.drop(\"Drug\", axis=1)\n",
    "y=data[\"Drug\"]"
   ]
  },
  {
   "cell_type": "code",
   "execution_count": 38,
   "id": "31aa165c",
   "metadata": {
    "ExecuteTime": {
     "end_time": "2023-03-17T18:10:44.919747Z",
     "start_time": "2023-03-17T18:10:44.643321Z"
    }
   },
   "outputs": [],
   "source": [
    "from sklearn.model_selection import train_test_split\n",
    "from sklearn.metrics import classification_report\n",
    "from sklearn.ensemble import RandomForestClassifier\n",
    "from sklearn.linear_model import LogisticRegression\n",
    "from sklearn.svm import SVC\n",
    "from sklearn.tree import DecisionTreeClassifier"
   ]
  },
  {
   "cell_type": "code",
   "execution_count": 39,
   "id": "9b216f53",
   "metadata": {
    "ExecuteTime": {
     "end_time": "2023-03-17T18:10:44.933115Z",
     "start_time": "2023-03-17T18:10:44.922701Z"
    }
   },
   "outputs": [],
   "source": [
    "X_train, X_test, y_train, y_test = train_test_split(X, y, test_size=0.3, random_state=42)"
   ]
  },
  {
   "cell_type": "markdown",
   "id": "d19a2ee1",
   "metadata": {},
   "source": [
    "## Model 1= RandomForest"
   ]
  },
  {
   "cell_type": "code",
   "execution_count": 40,
   "id": "2da3269b",
   "metadata": {
    "ExecuteTime": {
     "end_time": "2023-03-17T18:10:45.141474Z",
     "start_time": "2023-03-17T18:10:44.933115Z"
    }
   },
   "outputs": [
    {
     "data": {
      "text/plain": [
       "RandomForestClassifier()"
      ]
     },
     "execution_count": 40,
     "metadata": {},
     "output_type": "execute_result"
    }
   ],
   "source": [
    "RF=RandomForestClassifier()\n",
    "RF.fit(X_train,y_train)"
   ]
  },
  {
   "cell_type": "code",
   "execution_count": 41,
   "id": "38127f6b",
   "metadata": {
    "ExecuteTime": {
     "end_time": "2023-03-17T18:10:45.183733Z",
     "start_time": "2023-03-17T18:10:45.144430Z"
    }
   },
   "outputs": [],
   "source": [
    "y_pred1_test=RF.predict(X_test)"
   ]
  },
  {
   "cell_type": "code",
   "execution_count": 42,
   "id": "77250b1d",
   "metadata": {
    "ExecuteTime": {
     "end_time": "2023-03-17T18:10:45.229463Z",
     "start_time": "2023-03-17T18:10:45.186732Z"
    }
   },
   "outputs": [],
   "source": [
    "y_pred1_train=RF.predict(X_train)"
   ]
  },
  {
   "cell_type": "code",
   "execution_count": 43,
   "id": "1a1228c9",
   "metadata": {
    "ExecuteTime": {
     "end_time": "2023-03-17T18:10:45.244725Z",
     "start_time": "2023-03-17T18:10:45.231722Z"
    }
   },
   "outputs": [
    {
     "name": "stdout",
     "output_type": "stream",
     "text": [
      "1.0\n"
     ]
    }
   ],
   "source": [
    "acc1_test=accuracy_score(y_test,y_pred1_test)\n",
    "print(acc1_test)"
   ]
  },
  {
   "cell_type": "code",
   "execution_count": 44,
   "id": "80ad6445",
   "metadata": {
    "ExecuteTime": {
     "end_time": "2023-03-17T18:10:45.260790Z",
     "start_time": "2023-03-17T18:10:45.247680Z"
    }
   },
   "outputs": [
    {
     "name": "stdout",
     "output_type": "stream",
     "text": [
      "1.0\n"
     ]
    }
   ],
   "source": [
    "acc1_train=accuracy_score(y_train,y_pred1_train)\n",
    "print(acc1_train)"
   ]
  },
  {
   "cell_type": "markdown",
   "id": "12c43b5e",
   "metadata": {
    "ExecuteTime": {
     "end_time": "2023-03-17T17:39:47.677802Z",
     "start_time": "2023-03-17T17:39:46.815790Z"
    }
   },
   "source": [
    "# Model2=LogisticRegression"
   ]
  },
  {
   "cell_type": "code",
   "execution_count": 45,
   "id": "c5b28a0f",
   "metadata": {
    "ExecuteTime": {
     "end_time": "2023-03-17T18:10:45.851525Z",
     "start_time": "2023-03-17T18:10:45.263784Z"
    }
   },
   "outputs": [
    {
     "data": {
      "text/plain": [
       "LogisticRegression(max_iter=15000)"
      ]
     },
     "execution_count": 45,
     "metadata": {},
     "output_type": "execute_result"
    }
   ],
   "source": [
    "LR=LogisticRegression(max_iter=15000)\n",
    "LR.fit(X_train,y_train)"
   ]
  },
  {
   "cell_type": "code",
   "execution_count": 46,
   "id": "3ab460ab",
   "metadata": {
    "ExecuteTime": {
     "end_time": "2023-03-17T18:10:45.876433Z",
     "start_time": "2023-03-17T18:10:45.854480Z"
    }
   },
   "outputs": [],
   "source": [
    "y_pred2_test=LR.predict(X_test)"
   ]
  },
  {
   "cell_type": "code",
   "execution_count": 47,
   "id": "30dec9e8",
   "metadata": {
    "ExecuteTime": {
     "end_time": "2023-03-17T18:10:45.892084Z",
     "start_time": "2023-03-17T18:10:45.879668Z"
    }
   },
   "outputs": [],
   "source": [
    "y_pred2_train=LR.predict(X_train)"
   ]
  },
  {
   "cell_type": "code",
   "execution_count": 48,
   "id": "9a3156a9",
   "metadata": {
    "ExecuteTime": {
     "end_time": "2023-03-17T18:10:45.915551Z",
     "start_time": "2023-03-17T18:10:45.897064Z"
    }
   },
   "outputs": [
    {
     "name": "stdout",
     "output_type": "stream",
     "text": [
      "0.9583333333333334\n"
     ]
    }
   ],
   "source": [
    "acc2_test=accuracy_score(y_test,y_pred2_test)\n",
    "print(acc2_test)"
   ]
  },
  {
   "cell_type": "code",
   "execution_count": 49,
   "id": "bc0efaee",
   "metadata": {
    "ExecuteTime": {
     "end_time": "2023-03-17T18:10:45.931409Z",
     "start_time": "2023-03-17T18:10:45.915551Z"
    }
   },
   "outputs": [
    {
     "name": "stdout",
     "output_type": "stream",
     "text": [
      "0.9821428571428571\n"
     ]
    }
   ],
   "source": [
    "acc2_train=accuracy_score(y_train,y_pred2_train)\n",
    "print(acc2_train)"
   ]
  },
  {
   "cell_type": "markdown",
   "id": "761542d0",
   "metadata": {},
   "source": [
    "# Model 3= SVC"
   ]
  },
  {
   "cell_type": "code",
   "execution_count": 50,
   "id": "c07ff704",
   "metadata": {
    "ExecuteTime": {
     "end_time": "2023-03-17T18:10:45.958021Z",
     "start_time": "2023-03-17T18:10:45.934403Z"
    }
   },
   "outputs": [
    {
     "data": {
      "text/plain": [
       "SVC()"
      ]
     },
     "execution_count": 50,
     "metadata": {},
     "output_type": "execute_result"
    }
   ],
   "source": [
    "SVC= SVC()\n",
    "SVC.fit(X_train,y_train)"
   ]
  },
  {
   "cell_type": "code",
   "execution_count": 51,
   "id": "e724206c",
   "metadata": {
    "ExecuteTime": {
     "end_time": "2023-03-17T18:10:45.982456Z",
     "start_time": "2023-03-17T18:10:45.958021Z"
    }
   },
   "outputs": [],
   "source": [
    "y_pred3_test=SVC.predict(X_test)"
   ]
  },
  {
   "cell_type": "code",
   "execution_count": 52,
   "id": "2c3ca456",
   "metadata": {
    "ExecuteTime": {
     "end_time": "2023-03-17T18:10:46.010326Z",
     "start_time": "2023-03-17T18:10:45.982456Z"
    }
   },
   "outputs": [],
   "source": [
    "y_pred3_train=SVC.predict(X_train)"
   ]
  },
  {
   "cell_type": "code",
   "execution_count": 53,
   "id": "0d172441",
   "metadata": {
    "ExecuteTime": {
     "end_time": "2023-03-17T18:10:46.026541Z",
     "start_time": "2023-03-17T18:10:46.010326Z"
    }
   },
   "outputs": [
    {
     "name": "stdout",
     "output_type": "stream",
     "text": [
      "0.6875\n"
     ]
    }
   ],
   "source": [
    "acc3_test=accuracy_score(y_test,y_pred3_test)\n",
    "print(acc3_test)"
   ]
  },
  {
   "cell_type": "code",
   "execution_count": 54,
   "id": "cc6d3a0f",
   "metadata": {
    "ExecuteTime": {
     "end_time": "2023-03-17T18:10:46.041314Z",
     "start_time": "2023-03-17T18:10:46.026541Z"
    }
   },
   "outputs": [
    {
     "name": "stdout",
     "output_type": "stream",
     "text": [
      "0.6785714285714286\n"
     ]
    }
   ],
   "source": [
    "acc3_train=accuracy_score(y_train,y_pred3_train)\n",
    "print(acc3_train)"
   ]
  },
  {
   "cell_type": "markdown",
   "id": "74505a17",
   "metadata": {},
   "source": [
    "# Model4=DecisionTreeClassifer"
   ]
  },
  {
   "cell_type": "code",
   "execution_count": 55,
   "id": "bf662ea1",
   "metadata": {
    "ExecuteTime": {
     "end_time": "2023-03-17T18:10:46.074813Z",
     "start_time": "2023-03-17T18:10:46.041314Z"
    }
   },
   "outputs": [
    {
     "data": {
      "text/plain": [
       "DecisionTreeClassifier()"
      ]
     },
     "execution_count": 55,
     "metadata": {},
     "output_type": "execute_result"
    }
   ],
   "source": [
    "DT=DecisionTreeClassifier()\n",
    "DT.fit(X_train,y_train)"
   ]
  },
  {
   "cell_type": "code",
   "execution_count": 56,
   "id": "a318fc3d",
   "metadata": {
    "ExecuteTime": {
     "end_time": "2023-03-17T18:10:46.101344Z",
     "start_time": "2023-03-17T18:10:46.079801Z"
    }
   },
   "outputs": [],
   "source": [
    "y_pred4_test=DT.predict(X_test)"
   ]
  },
  {
   "cell_type": "code",
   "execution_count": 57,
   "id": "f4cfcb1f",
   "metadata": {
    "ExecuteTime": {
     "end_time": "2023-03-17T18:10:46.131838Z",
     "start_time": "2023-03-17T18:10:46.111892Z"
    }
   },
   "outputs": [],
   "source": [
    "y_pred4_train=DT.predict(X_train)"
   ]
  },
  {
   "cell_type": "code",
   "execution_count": 58,
   "id": "10a37f64",
   "metadata": {
    "ExecuteTime": {
     "end_time": "2023-03-17T18:10:46.159403Z",
     "start_time": "2023-03-17T18:10:46.137006Z"
    }
   },
   "outputs": [
    {
     "name": "stdout",
     "output_type": "stream",
     "text": [
      "1.0\n"
     ]
    }
   ],
   "source": [
    "acc4_test=accuracy_score(y_test,y_pred4_test)\n",
    "print(acc4_test)"
   ]
  },
  {
   "cell_type": "code",
   "execution_count": 59,
   "id": "8f8cb4a3",
   "metadata": {
    "ExecuteTime": {
     "end_time": "2023-03-17T18:10:46.176355Z",
     "start_time": "2023-03-17T18:10:46.159403Z"
    }
   },
   "outputs": [
    {
     "name": "stdout",
     "output_type": "stream",
     "text": [
      "1.0\n"
     ]
    }
   ],
   "source": [
    "acc4_train=accuracy_score(y_train,y_pred4_train)\n",
    "print(acc4_train)"
   ]
  },
  {
   "cell_type": "code",
   "execution_count": 60,
   "id": "53a7784f",
   "metadata": {
    "ExecuteTime": {
     "end_time": "2023-03-17T18:10:46.213411Z",
     "start_time": "2023-03-17T18:10:46.180344Z"
    }
   },
   "outputs": [
    {
     "name": "stdout",
     "output_type": "stream",
     "text": [
      "              precision    recall  f1-score   support\n",
      "\n",
      "       DrugY       1.00      1.00      1.00        22\n",
      "       drugA       1.00      1.00      1.00         2\n",
      "       drugB       1.00      1.00      1.00         5\n",
      "       drugC       1.00      1.00      1.00         4\n",
      "       drugX       1.00      1.00      1.00        15\n",
      "\n",
      "    accuracy                           1.00        48\n",
      "   macro avg       1.00      1.00      1.00        48\n",
      "weighted avg       1.00      1.00      1.00        48\n",
      "\n"
     ]
    }
   ],
   "source": [
    "print(classification_report(y_test, y_pred4_test))"
   ]
  },
  {
   "cell_type": "code",
   "execution_count": 61,
   "id": "79d153d8",
   "metadata": {
    "ExecuteTime": {
     "end_time": "2023-03-17T18:10:46.246734Z",
     "start_time": "2023-03-17T18:10:46.217400Z"
    }
   },
   "outputs": [
    {
     "data": {
      "text/html": [
       "<div>\n",
       "<style scoped>\n",
       "    .dataframe tbody tr th:only-of-type {\n",
       "        vertical-align: middle;\n",
       "    }\n",
       "\n",
       "    .dataframe tbody tr th {\n",
       "        vertical-align: top;\n",
       "    }\n",
       "\n",
       "    .dataframe thead th {\n",
       "        text-align: right;\n",
       "    }\n",
       "</style>\n",
       "<table border=\"1\" class=\"dataframe\">\n",
       "  <thead>\n",
       "    <tr style=\"text-align: right;\">\n",
       "      <th></th>\n",
       "      <th>Models</th>\n",
       "      <th>Accuracy Score</th>\n",
       "    </tr>\n",
       "  </thead>\n",
       "  <tbody>\n",
       "    <tr>\n",
       "      <th>0</th>\n",
       "      <td>RF</td>\n",
       "      <td>1.00000</td>\n",
       "    </tr>\n",
       "    <tr>\n",
       "      <th>1</th>\n",
       "      <td>LR</td>\n",
       "      <td>0.95833</td>\n",
       "    </tr>\n",
       "    <tr>\n",
       "      <th>2</th>\n",
       "      <td>SVC</td>\n",
       "      <td>0.68750</td>\n",
       "    </tr>\n",
       "    <tr>\n",
       "      <th>3</th>\n",
       "      <td>DT</td>\n",
       "      <td>1.00000</td>\n",
       "    </tr>\n",
       "  </tbody>\n",
       "</table>\n",
       "</div>"
      ],
      "text/plain": [
       "  Models  Accuracy Score\n",
       "0     RF         1.00000\n",
       "1     LR         0.95833\n",
       "2    SVC         0.68750\n",
       "3     DT         1.00000"
      ]
     },
     "execution_count": 61,
     "metadata": {},
     "output_type": "execute_result"
    }
   ],
   "source": [
    "score_data=pd.DataFrame({'Models':['RF','LR','SVC','DT'],'Accuracy Score':[acc1_test,acc2_test,acc3_test,acc4_test]})\n",
    "score_data"
   ]
  },
  {
   "cell_type": "code",
   "execution_count": 62,
   "id": "0207bd15",
   "metadata": {
    "ExecuteTime": {
     "end_time": "2023-03-17T18:10:46.440213Z",
     "start_time": "2023-03-17T18:10:46.246734Z"
    }
   },
   "outputs": [
    {
     "data": {
      "image/png": "[encoded data removed]",
      "text/plain": [
       "<Figure size 432x288 with 1 Axes>"
      ]
     },
     "metadata": {
      "needs_background": "light"
     },
     "output_type": "display_data"
    }
   ],
   "source": [
    "sns.barplot(x='Models',y='Accuracy Score',data=score_data)\n",
    "plt.show()"
   ]
  },
  {
   "cell_type": "code",
   "execution_count": 63,
   "id": "0bdccdd8",
   "metadata": {
    "ExecuteTime": {
     "end_time": "2023-03-17T18:10:46.465524Z",
     "start_time": "2023-03-17T18:10:46.443206Z"
    }
   },
   "outputs": [],
   "source": [
    "test=pd.read_csv(\"drug_test.csv\")"
   ]
  },
  {
   "cell_type": "code",
   "execution_count": 64,
   "id": "4b176672",
   "metadata": {
    "ExecuteTime": {
     "end_time": "2023-03-17T18:10:46.500025Z",
     "start_time": "2023-03-17T18:10:46.465524Z"
    }
   },
   "outputs": [
    {
     "data": {
      "text/html": [
       "<div>\n",
       "<style scoped>\n",
       "    .dataframe tbody tr th:only-of-type {\n",
       "        vertical-align: middle;\n",
       "    }\n",
       "\n",
       "    .dataframe tbody tr th {\n",
       "        vertical-align: top;\n",
       "    }\n",
       "\n",
       "    .dataframe thead th {\n",
       "        text-align: right;\n",
       "    }\n",
       "</style>\n",
       "<table border=\"1\" class=\"dataframe\">\n",
       "  <thead>\n",
       "    <tr style=\"text-align: right;\">\n",
       "      <th></th>\n",
       "      <th>Id</th>\n",
       "      <th>Age</th>\n",
       "      <th>Sex</th>\n",
       "      <th>BP</th>\n",
       "      <th>Cholesterol</th>\n",
       "      <th>Na_to_K</th>\n",
       "    </tr>\n",
       "  </thead>\n",
       "  <tbody>\n",
       "    <tr>\n",
       "      <th>0</th>\n",
       "      <td>95</td>\n",
       "      <td>36</td>\n",
       "      <td>M</td>\n",
       "      <td>LOW</td>\n",
       "      <td>NORMAL</td>\n",
       "      <td>11.42400</td>\n",
       "    </tr>\n",
       "    <tr>\n",
       "      <th>1</th>\n",
       "      <td>15</td>\n",
       "      <td>16</td>\n",
       "      <td>F</td>\n",
       "      <td>HIGH</td>\n",
       "      <td>NORMAL</td>\n",
       "      <td>15.51600</td>\n",
       "    </tr>\n",
       "    <tr>\n",
       "      <th>2</th>\n",
       "      <td>30</td>\n",
       "      <td>18</td>\n",
       "      <td>F</td>\n",
       "      <td>NORMAL</td>\n",
       "      <td>NORMAL</td>\n",
       "      <td>8.75000</td>\n",
       "    </tr>\n",
       "    <tr>\n",
       "      <th>3</th>\n",
       "      <td>158</td>\n",
       "      <td>59</td>\n",
       "      <td>F</td>\n",
       "      <td>LOW</td>\n",
       "      <td>HIGH</td>\n",
       "      <td>10.44400</td>\n",
       "    </tr>\n",
       "    <tr>\n",
       "      <th>4</th>\n",
       "      <td>128</td>\n",
       "      <td>47</td>\n",
       "      <td>M</td>\n",
       "      <td>LOW</td>\n",
       "      <td>NORMAL</td>\n",
       "      <td>33.54200</td>\n",
       "    </tr>\n",
       "  </tbody>\n",
       "</table>\n",
       "</div>"
      ],
      "text/plain": [
       "    Id  Age Sex      BP Cholesterol  Na_to_K\n",
       "0   95   36   M     LOW      NORMAL 11.42400\n",
       "1   15   16   F    HIGH      NORMAL 15.51600\n",
       "2   30   18   F  NORMAL      NORMAL  8.75000\n",
       "3  158   59   F     LOW        HIGH 10.44400\n",
       "4  128   47   M     LOW      NORMAL 33.54200"
      ]
     },
     "execution_count": 64,
     "metadata": {},
     "output_type": "execute_result"
    }
   ],
   "source": [
    "test.head()"
   ]
  },
  {
   "cell_type": "code",
   "execution_count": 65,
   "id": "2ab78d79",
   "metadata": {
    "ExecuteTime": {
     "end_time": "2023-03-17T18:10:46.519638Z",
     "start_time": "2023-03-17T18:10:46.503685Z"
    }
   },
   "outputs": [],
   "source": [
    "ID=test['Id']\n",
    "test.drop(['Id'], axis=1, inplace=True)\n",
    "cat=[ 'Sex', 'BP', 'Cholesterol']\n"
   ]
  },
  {
   "cell_type": "code",
   "execution_count": 66,
   "id": "23150417",
   "metadata": {
    "ExecuteTime": {
     "end_time": "2023-03-17T18:10:46.549405Z",
     "start_time": "2023-03-17T18:10:46.524626Z"
    }
   },
   "outputs": [],
   "source": [
    "test=pd.get_dummies(test,columns=cat,drop_first=True)"
   ]
  },
  {
   "cell_type": "code",
   "execution_count": 67,
   "id": "dd795cbd",
   "metadata": {
    "ExecuteTime": {
     "end_time": "2023-03-17T18:10:46.595415Z",
     "start_time": "2023-03-17T18:10:46.556678Z"
    }
   },
   "outputs": [
    {
     "data": {
      "text/html": [
       "<div>\n",
       "<style scoped>\n",
       "    .dataframe tbody tr th:only-of-type {\n",
       "        vertical-align: middle;\n",
       "    }\n",
       "\n",
       "    .dataframe tbody tr th {\n",
       "        vertical-align: top;\n",
       "    }\n",
       "\n",
       "    .dataframe thead th {\n",
       "        text-align: right;\n",
       "    }\n",
       "</style>\n",
       "<table border=\"1\" class=\"dataframe\">\n",
       "  <thead>\n",
       "    <tr style=\"text-align: right;\">\n",
       "      <th></th>\n",
       "      <th>Age</th>\n",
       "      <th>Na_to_K</th>\n",
       "      <th>Sex_M</th>\n",
       "      <th>BP_LOW</th>\n",
       "      <th>BP_NORMAL</th>\n",
       "      <th>Cholesterol_NORMAL</th>\n",
       "    </tr>\n",
       "  </thead>\n",
       "  <tbody>\n",
       "    <tr>\n",
       "      <th>0</th>\n",
       "      <td>36</td>\n",
       "      <td>11.42400</td>\n",
       "      <td>1</td>\n",
       "      <td>1</td>\n",
       "      <td>0</td>\n",
       "      <td>1</td>\n",
       "    </tr>\n",
       "    <tr>\n",
       "      <th>1</th>\n",
       "      <td>16</td>\n",
       "      <td>15.51600</td>\n",
       "      <td>0</td>\n",
       "      <td>0</td>\n",
       "      <td>0</td>\n",
       "      <td>1</td>\n",
       "    </tr>\n",
       "    <tr>\n",
       "      <th>2</th>\n",
       "      <td>18</td>\n",
       "      <td>8.75000</td>\n",
       "      <td>0</td>\n",
       "      <td>0</td>\n",
       "      <td>1</td>\n",
       "      <td>1</td>\n",
       "    </tr>\n",
       "    <tr>\n",
       "      <th>3</th>\n",
       "      <td>59</td>\n",
       "      <td>10.44400</td>\n",
       "      <td>0</td>\n",
       "      <td>1</td>\n",
       "      <td>0</td>\n",
       "      <td>0</td>\n",
       "    </tr>\n",
       "    <tr>\n",
       "      <th>4</th>\n",
       "      <td>47</td>\n",
       "      <td>33.54200</td>\n",
       "      <td>1</td>\n",
       "      <td>1</td>\n",
       "      <td>0</td>\n",
       "      <td>1</td>\n",
       "    </tr>\n",
       "  </tbody>\n",
       "</table>\n",
       "</div>"
      ],
      "text/plain": [
       "   Age  Na_to_K  Sex_M  BP_LOW  BP_NORMAL  Cholesterol_NORMAL\n",
       "0   36 11.42400      1       1          0                   1\n",
       "1   16 15.51600      0       0          0                   1\n",
       "2   18  8.75000      0       0          1                   1\n",
       "3   59 10.44400      0       1          0                   0\n",
       "4   47 33.54200      1       1          0                   1"
      ]
     },
     "execution_count": 67,
     "metadata": {},
     "output_type": "execute_result"
    }
   ],
   "source": [
    "test.head()"
   ]
  },
  {
   "cell_type": "code",
   "execution_count": 68,
   "id": "b7af8ab7",
   "metadata": {
    "ExecuteTime": {
     "end_time": "2023-03-17T18:10:46.668949Z",
     "start_time": "2023-03-17T18:10:46.595415Z"
    }
   },
   "outputs": [],
   "source": [
    "\n",
    "best_model =RF.predict(test)"
   ]
  },
  {
   "cell_type": "code",
   "execution_count": 70,
   "id": "b2464032",
   "metadata": {
    "ExecuteTime": {
     "end_time": "2023-03-17T18:11:25.196591Z",
     "start_time": "2023-03-17T18:11:25.180595Z"
    }
   },
   "outputs": [
    {
     "name": "stdout",
     "output_type": "stream",
     "text": [
      "['drugX' 'DrugY' 'drugX' 'drugC' 'DrugY' 'DrugY' 'DrugY' 'drugX' 'drugA'\n",
      " 'drugX' 'drugA' 'drugX' 'DrugY' 'drugA' 'drugB' 'DrugY' 'drugB' 'drugX'\n",
      " 'drugC' 'DrugY' 'drugB' 'drugX' 'drugX' 'DrugY' 'DrugY' 'DrugY' 'drugC'\n",
      " 'drugX' 'DrugY' 'drugX' 'DrugY' 'drugC' 'drugC' 'DrugY' 'drugA' 'DrugY'\n",
      " 'drugX' 'drugA' 'DrugY' 'drugA']\n"
     ]
    }
   ],
   "source": [
    "print(best_model)"
   ]
  },
  {
   "cell_type": "code",
   "execution_count": 71,
   "id": "6e2ce177",
   "metadata": {
    "ExecuteTime": {
     "end_time": "2023-03-17T18:11:47.349937Z",
     "start_time": "2023-03-17T18:11:47.323962Z"
    }
   },
   "outputs": [],
   "source": [
    "submission = pd.DataFrame({'ID': ID, 'Drug': best_model })\n",
    "# you could use any filename. We choose submission here\n",
    "submission.to_csv('submission.csv', index=False, header=False)"
   ]
  },
  {
   "cell_type": "code",
   "execution_count": null,
   "id": "5c7c5516",
   "metadata": {},
   "outputs": [],
   "source": []
  }
 ],
 "metadata": {
  "kernelspec": {
   "display_name": "Python 3 (ipykernel)",
   "language": "python",
   "name": "python3"
  },
  "language_info": {
   "codemirror_mode": {
    "name": "ipython",
    "version": 3
   },
   "file_extension": ".py",
   "mimetype": "text/x-python",
   "name": "python",
   "nbconvert_exporter": "python",
   "pygments_lexer": "ipython3",
   "version": "3.9.12"
  }
 },
 "nbformat": 4,
 "nbformat_minor": 5
}
